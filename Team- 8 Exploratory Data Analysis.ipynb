{
 "cells": [
  {
   "cell_type": "code",
   "execution_count": 2,
   "id": "8f3bd181",
   "metadata": {},
   "outputs": [],
   "source": [
    "import pandas as pd"
   ]
  },
  {
   "cell_type": "markdown",
   "id": "8f1a1589",
   "metadata": {},
   "source": [
    "###### Read CSV"
   ]
  },
  {
   "cell_type": "code",
   "execution_count": 3,
   "id": "1b4c1fba",
   "metadata": {},
   "outputs": [],
   "source": [
    "data = pd.read_csv('indeed_jobs.csv')"
   ]
  },
  {
   "cell_type": "markdown",
   "id": "1e201aa3",
   "metadata": {},
   "source": [
    "###### Exploratory Data Analysis"
   ]
  },
  {
   "cell_type": "code",
   "execution_count": 4,
   "id": "9529e662",
   "metadata": {},
   "outputs": [
    {
     "data": {
      "text/html": [
       "<div>\n",
       "<style scoped>\n",
       "    .dataframe tbody tr th:only-of-type {\n",
       "        vertical-align: middle;\n",
       "    }\n",
       "\n",
       "    .dataframe tbody tr th {\n",
       "        vertical-align: top;\n",
       "    }\n",
       "\n",
       "    .dataframe thead th {\n",
       "        text-align: right;\n",
       "    }\n",
       "</style>\n",
       "<table border=\"1\" class=\"dataframe\">\n",
       "  <thead>\n",
       "    <tr style=\"text-align: right;\">\n",
       "      <th></th>\n",
       "      <th>text</th>\n",
       "      <th>title</th>\n",
       "    </tr>\n",
       "  </thead>\n",
       "  <tbody>\n",
       "    <tr>\n",
       "      <th>0</th>\n",
       "      <td>tampa fl month cth requires active ts sci a da...</td>\n",
       "      <td>Data Scientist</td>\n",
       "    </tr>\n",
       "    <tr>\n",
       "      <th>1</th>\n",
       "      <td>summary posted feb weekly hours role number th...</td>\n",
       "      <td>Data Scientist</td>\n",
       "    </tr>\n",
       "    <tr>\n",
       "      <th>2</th>\n",
       "      <td>about us twitch is the world s biggest live st...</td>\n",
       "      <td>Data Scientist</td>\n",
       "    </tr>\n",
       "    <tr>\n",
       "      <th>3</th>\n",
       "      <td>clear demand company overview clear demand del...</td>\n",
       "      <td>Data Scientist</td>\n",
       "    </tr>\n",
       "    <tr>\n",
       "      <th>4</th>\n",
       "      <td>transunion s job applicant privacy notice what...</td>\n",
       "      <td>Data Scientist</td>\n",
       "    </tr>\n",
       "  </tbody>\n",
       "</table>\n",
       "</div>"
      ],
      "text/plain": [
       "                                                text           title\n",
       "0  tampa fl month cth requires active ts sci a da...  Data Scientist\n",
       "1  summary posted feb weekly hours role number th...  Data Scientist\n",
       "2  about us twitch is the world s biggest live st...  Data Scientist\n",
       "3  clear demand company overview clear demand del...  Data Scientist\n",
       "4  transunion s job applicant privacy notice what...  Data Scientist"
      ]
     },
     "execution_count": 4,
     "metadata": {},
     "output_type": "execute_result"
    }
   ],
   "source": [
    "data.head()"
   ]
  },
  {
   "cell_type": "code",
   "execution_count": 5,
   "id": "873ec415",
   "metadata": {},
   "outputs": [
    {
     "name": "stdout",
     "output_type": "stream",
     "text": [
      "<class 'pandas.core.frame.DataFrame'>\n",
      "RangeIndex: 13890 entries, 0 to 13889\n",
      "Data columns (total 2 columns):\n",
      " #   Column  Non-Null Count  Dtype \n",
      "---  ------  --------------  ----- \n",
      " 0   text    13889 non-null  object\n",
      " 1   title   13889 non-null  object\n",
      "dtypes: object(2)\n",
      "memory usage: 217.2+ KB\n"
     ]
    }
   ],
   "source": [
    "data.info()"
   ]
  },
  {
   "cell_type": "markdown",
   "id": "4cd08a79",
   "metadata": {},
   "source": [
    "###### Counts unique values"
   ]
  },
  {
   "cell_type": "code",
   "execution_count": 6,
   "id": "9b8bdb21",
   "metadata": {},
   "outputs": [
    {
     "data": {
      "text/plain": [
       "Data Scientist       8224\n",
       "software engineer    5435\n",
       "Data Scientists       230\n",
       "Name: title, dtype: int64"
      ]
     },
     "execution_count": 6,
     "metadata": {},
     "output_type": "execute_result"
    }
   ],
   "source": [
    "data['title'].value_counts()"
   ]
  },
  {
   "cell_type": "markdown",
   "id": "b1987b74",
   "metadata": {},
   "source": [
    "###### replacing values"
   ]
  },
  {
   "cell_type": "code",
   "execution_count": 7,
   "id": "66fe34f3",
   "metadata": {},
   "outputs": [],
   "source": [
    "data['title'] = data['title'].replace(\"Data Scientists\", \"Data Scientist\")"
   ]
  },
  {
   "cell_type": "code",
   "execution_count": 8,
   "id": "8acd24e0",
   "metadata": {},
   "outputs": [
    {
     "data": {
      "text/plain": [
       "Data Scientist       8454\n",
       "software engineer    5435\n",
       "Name: title, dtype: int64"
      ]
     },
     "execution_count": 8,
     "metadata": {},
     "output_type": "execute_result"
    }
   ],
   "source": [
    "data['title'].value_counts()"
   ]
  },
  {
   "cell_type": "markdown",
   "id": "5a95333e",
   "metadata": {},
   "source": [
    "###### Check Null values"
   ]
  },
  {
   "cell_type": "code",
   "execution_count": 9,
   "id": "45e5b063",
   "metadata": {},
   "outputs": [
    {
     "data": {
      "text/plain": [
       "text     1\n",
       "title    1\n",
       "dtype: int64"
      ]
     },
     "execution_count": 9,
     "metadata": {},
     "output_type": "execute_result"
    }
   ],
   "source": [
    "data.isnull().sum()"
   ]
  },
  {
   "cell_type": "code",
   "execution_count": 10,
   "id": "343fca6c",
   "metadata": {},
   "outputs": [],
   "source": [
    "data = data.dropna()"
   ]
  },
  {
   "cell_type": "code",
   "execution_count": 11,
   "id": "05492353",
   "metadata": {},
   "outputs": [
    {
     "data": {
      "text/plain": [
       "text     0\n",
       "title    0\n",
       "dtype: int64"
      ]
     },
     "execution_count": 11,
     "metadata": {},
     "output_type": "execute_result"
    }
   ],
   "source": [
    "data.isnull().sum()"
   ]
  },
  {
   "cell_type": "markdown",
   "id": "5fb1f472",
   "metadata": {},
   "source": [
    "###### Drop Duplicate values"
   ]
  },
  {
   "cell_type": "code",
   "execution_count": 36,
   "id": "59a889f9",
   "metadata": {},
   "outputs": [
    {
     "name": "stdout",
     "output_type": "stream",
     "text": [
      "                                                    text              title\n",
      "49     must haves years serving in a data analytics r...     Data Scientist\n",
      "50     the challenge are you excited at the prospect ...     Data Scientist\n",
      "54     basic qualifications bachelor s degree or comm...     Data Scientist\n",
      "62     duties directs an intricate program of data sc...     Data Scientist\n",
      "63     daily functions and duties of this role requir...     Data Scientist\n",
      "...                                                  ...                ...\n",
      "13885  hands on experience with provisioning maintain...  software engineer\n",
      "13886  what does a great sr application analyst do th...  software engineer\n",
      "13887  job description the role healthcare group hcg ...  software engineer\n",
      "13888  imagine working at intellibus to engineer plat...  software engineer\n",
      "13889  we are seeking creative and talented individua...  software engineer\n",
      "\n",
      "[2981 rows x 2 columns]\n"
     ]
    }
   ],
   "source": [
    "df = data\n",
    "\n",
    "df = df.drop_duplicates('text', keep='last')\n",
    "\n",
    "print(df)\n"
   ]
  },
  {
   "cell_type": "code",
   "execution_count": 37,
   "id": "a6616ef9",
   "metadata": {},
   "outputs": [
    {
     "data": {
      "text/plain": [
       "software engineer    1807\n",
       "Data Scientist       1174\n",
       "Name: title, dtype: int64"
      ]
     },
     "execution_count": 37,
     "metadata": {},
     "output_type": "execute_result"
    }
   ],
   "source": [
    "df['title'].value_counts()"
   ]
  },
  {
   "cell_type": "code",
   "execution_count": 58,
   "id": "dda74cba",
   "metadata": {},
   "outputs": [],
   "source": [
    "### Reset index"
   ]
  },
  {
   "cell_type": "code",
   "execution_count": 38,
   "id": "a245f5a2",
   "metadata": {},
   "outputs": [],
   "source": [
    "df = df.reset_index(drop=True)"
   ]
  },
  {
   "cell_type": "code",
   "execution_count": 39,
   "id": "91fccc59",
   "metadata": {},
   "outputs": [
    {
     "data": {
      "text/html": [
       "<div>\n",
       "<style scoped>\n",
       "    .dataframe tbody tr th:only-of-type {\n",
       "        vertical-align: middle;\n",
       "    }\n",
       "\n",
       "    .dataframe tbody tr th {\n",
       "        vertical-align: top;\n",
       "    }\n",
       "\n",
       "    .dataframe thead th {\n",
       "        text-align: right;\n",
       "    }\n",
       "</style>\n",
       "<table border=\"1\" class=\"dataframe\">\n",
       "  <thead>\n",
       "    <tr style=\"text-align: right;\">\n",
       "      <th></th>\n",
       "      <th>text</th>\n",
       "      <th>title</th>\n",
       "    </tr>\n",
       "  </thead>\n",
       "  <tbody>\n",
       "    <tr>\n",
       "      <th>0</th>\n",
       "      <td>must haves years serving in a data analytics r...</td>\n",
       "      <td>Data Scientist</td>\n",
       "    </tr>\n",
       "    <tr>\n",
       "      <th>1</th>\n",
       "      <td>the challenge are you excited at the prospect ...</td>\n",
       "      <td>Data Scientist</td>\n",
       "    </tr>\n",
       "    <tr>\n",
       "      <th>2</th>\n",
       "      <td>basic qualifications bachelor s degree or comm...</td>\n",
       "      <td>Data Scientist</td>\n",
       "    </tr>\n",
       "    <tr>\n",
       "      <th>3</th>\n",
       "      <td>duties directs an intricate program of data sc...</td>\n",
       "      <td>Data Scientist</td>\n",
       "    </tr>\n",
       "    <tr>\n",
       "      <th>4</th>\n",
       "      <td>daily functions and duties of this role requir...</td>\n",
       "      <td>Data Scientist</td>\n",
       "    </tr>\n",
       "  </tbody>\n",
       "</table>\n",
       "</div>"
      ],
      "text/plain": [
       "                                                text           title\n",
       "0  must haves years serving in a data analytics r...  Data Scientist\n",
       "1  the challenge are you excited at the prospect ...  Data Scientist\n",
       "2  basic qualifications bachelor s degree or comm...  Data Scientist\n",
       "3  duties directs an intricate program of data sc...  Data Scientist\n",
       "4  daily functions and duties of this role requir...  Data Scientist"
      ]
     },
     "execution_count": 39,
     "metadata": {},
     "output_type": "execute_result"
    }
   ],
   "source": [
    "df.head()"
   ]
  },
  {
   "cell_type": "markdown",
   "id": "bcdc1bab",
   "metadata": {},
   "source": [
    "###### making it as Numeric binary dataset , where Data Scientist is 1 and software engineer is 0"
   ]
  },
  {
   "cell_type": "code",
   "execution_count": 40,
   "id": "896feb8d",
   "metadata": {},
   "outputs": [],
   "source": [
    "df['title'] = df['title'].replace(\"Data Scientist\", 1)\n",
    "df['title'] = df['title'].replace(\"software engineer\", 0)"
   ]
  },
  {
   "cell_type": "markdown",
   "id": "8de4c5ac",
   "metadata": {},
   "source": [
    "######  Found Data imbalance"
   ]
  },
  {
   "cell_type": "code",
   "execution_count": 41,
   "id": "029461f7",
   "metadata": {},
   "outputs": [
    {
     "data": {
      "text/plain": [
       "0    1807\n",
       "1    1174\n",
       "Name: title, dtype: int64"
      ]
     },
     "execution_count": 41,
     "metadata": {},
     "output_type": "execute_result"
    }
   ],
   "source": [
    "df['title'].value_counts()"
   ]
  },
  {
   "cell_type": "code",
   "execution_count": 42,
   "id": "062af780",
   "metadata": {},
   "outputs": [],
   "source": [
    "df_DS = df[df['title'] == 1]\n",
    "df_SW = df[df['title'] == 0]"
   ]
  },
  {
   "cell_type": "code",
   "execution_count": 45,
   "id": "075b209b",
   "metadata": {},
   "outputs": [
    {
     "data": {
      "text/plain": [
       "1    1174\n",
       "Name: title, dtype: int64"
      ]
     },
     "execution_count": 45,
     "metadata": {},
     "output_type": "execute_result"
    }
   ],
   "source": [
    "df_DS['title'].value_counts()"
   ]
  },
  {
   "cell_type": "code",
   "execution_count": 46,
   "id": "6e4c6191",
   "metadata": {},
   "outputs": [
    {
     "data": {
      "text/plain": [
       "0    1807\n",
       "Name: title, dtype: int64"
      ]
     },
     "execution_count": 46,
     "metadata": {},
     "output_type": "execute_result"
    }
   ],
   "source": [
    "df_SW['title'].value_counts()"
   ]
  },
  {
   "cell_type": "markdown",
   "id": "2d8a9820",
   "metadata": {},
   "source": [
    "###### selecting the first 1174 data of software engineer dataset to match the data scientists dataset"
   ]
  },
  {
   "cell_type": "code",
   "execution_count": 47,
   "id": "f224a9c3",
   "metadata": {},
   "outputs": [],
   "source": [
    "SW = df_SW.iloc[:1174,:]"
   ]
  },
  {
   "cell_type": "code",
   "execution_count": 48,
   "id": "57d05465",
   "metadata": {},
   "outputs": [
    {
     "data": {
      "text/plain": [
       "0    1174\n",
       "Name: title, dtype: int64"
      ]
     },
     "execution_count": 48,
     "metadata": {},
     "output_type": "execute_result"
    }
   ],
   "source": [
    "SW['title'].value_counts()"
   ]
  },
  {
   "cell_type": "code",
   "execution_count": 59,
   "id": "2685586b",
   "metadata": {},
   "outputs": [],
   "source": [
    "###Concatenate the two dataframes"
   ]
  },
  {
   "cell_type": "code",
   "execution_count": 49,
   "id": "66fcedcb",
   "metadata": {},
   "outputs": [],
   "source": [
    "new_data = pd.concat([SW, df_DS], axis=0)"
   ]
  },
  {
   "cell_type": "code",
   "execution_count": 50,
   "id": "f94ed4f8",
   "metadata": {},
   "outputs": [
    {
     "data": {
      "text/html": [
       "<div>\n",
       "<style scoped>\n",
       "    .dataframe tbody tr th:only-of-type {\n",
       "        vertical-align: middle;\n",
       "    }\n",
       "\n",
       "    .dataframe tbody tr th {\n",
       "        vertical-align: top;\n",
       "    }\n",
       "\n",
       "    .dataframe thead th {\n",
       "        text-align: right;\n",
       "    }\n",
       "</style>\n",
       "<table border=\"1\" class=\"dataframe\">\n",
       "  <thead>\n",
       "    <tr style=\"text-align: right;\">\n",
       "      <th></th>\n",
       "      <th>text</th>\n",
       "      <th>title</th>\n",
       "    </tr>\n",
       "  </thead>\n",
       "  <tbody>\n",
       "    <tr>\n",
       "      <th>42</th>\n",
       "      <td>job description the automation engineer role r...</td>\n",
       "      <td>0</td>\n",
       "    </tr>\n",
       "    <tr>\n",
       "      <th>43</th>\n",
       "      <td>our client an insurance company is looking to ...</td>\n",
       "      <td>0</td>\n",
       "    </tr>\n",
       "    <tr>\n",
       "      <th>44</th>\n",
       "      <td>fullstack node developer fast growing fintech ...</td>\n",
       "      <td>0</td>\n",
       "    </tr>\n",
       "    <tr>\n",
       "      <th>45</th>\n",
       "      <td>sr java developer location nyc for flexible hy...</td>\n",
       "      <td>0</td>\n",
       "    </tr>\n",
       "    <tr>\n",
       "      <th>46</th>\n",
       "      <td>a sr cloud engineer job in broomfield co is cu...</td>\n",
       "      <td>0</td>\n",
       "    </tr>\n",
       "  </tbody>\n",
       "</table>\n",
       "</div>"
      ],
      "text/plain": [
       "                                                 text  title\n",
       "42  job description the automation engineer role r...      0\n",
       "43  our client an insurance company is looking to ...      0\n",
       "44  fullstack node developer fast growing fintech ...      0\n",
       "45  sr java developer location nyc for flexible hy...      0\n",
       "46  a sr cloud engineer job in broomfield co is cu...      0"
      ]
     },
     "execution_count": 50,
     "metadata": {},
     "output_type": "execute_result"
    }
   ],
   "source": [
    "new_data.head()"
   ]
  },
  {
   "cell_type": "code",
   "execution_count": 51,
   "id": "e39534f9",
   "metadata": {},
   "outputs": [
    {
     "data": {
      "text/plain": [
       "0    1174\n",
       "1    1174\n",
       "Name: title, dtype: int64"
      ]
     },
     "execution_count": 51,
     "metadata": {},
     "output_type": "execute_result"
    }
   ],
   "source": [
    "new_data['title'].value_counts()"
   ]
  },
  {
   "cell_type": "markdown",
   "id": "5ae2ecbf",
   "metadata": {},
   "source": [
    "###### Mixing the order of the dataset to random order and resetting the index"
   ]
  },
  {
   "cell_type": "code",
   "execution_count": 52,
   "id": "bf803962",
   "metadata": {},
   "outputs": [],
   "source": [
    "df = new_data.sample(frac=1).reset_index(drop=True)"
   ]
  },
  {
   "cell_type": "code",
   "execution_count": 53,
   "id": "00f834e6",
   "metadata": {},
   "outputs": [
    {
     "data": {
      "text/html": [
       "<div>\n",
       "<style scoped>\n",
       "    .dataframe tbody tr th:only-of-type {\n",
       "        vertical-align: middle;\n",
       "    }\n",
       "\n",
       "    .dataframe tbody tr th {\n",
       "        vertical-align: top;\n",
       "    }\n",
       "\n",
       "    .dataframe thead th {\n",
       "        text-align: right;\n",
       "    }\n",
       "</style>\n",
       "<table border=\"1\" class=\"dataframe\">\n",
       "  <thead>\n",
       "    <tr style=\"text-align: right;\">\n",
       "      <th></th>\n",
       "      <th>text</th>\n",
       "      <th>title</th>\n",
       "    </tr>\n",
       "  </thead>\n",
       "  <tbody>\n",
       "    <tr>\n",
       "      <th>0</th>\n",
       "      <td>honda performance development inc a leader in ...</td>\n",
       "      <td>0</td>\n",
       "    </tr>\n",
       "    <tr>\n",
       "      <th>1</th>\n",
       "      <td>data lake architect w saas remote months contr...</td>\n",
       "      <td>1</td>\n",
       "    </tr>\n",
       "    <tr>\n",
       "      <th>2</th>\n",
       "      <td>senior software engineer qrypt is a post quant...</td>\n",
       "      <td>0</td>\n",
       "    </tr>\n",
       "    <tr>\n",
       "      <th>3</th>\n",
       "      <td>as a staff software engineer backend you will ...</td>\n",
       "      <td>0</td>\n",
       "    </tr>\n",
       "    <tr>\n",
       "      <th>4</th>\n",
       "      <td>we are looking for problem solvers with master...</td>\n",
       "      <td>1</td>\n",
       "    </tr>\n",
       "  </tbody>\n",
       "</table>\n",
       "</div>"
      ],
      "text/plain": [
       "                                                text  title\n",
       "0  honda performance development inc a leader in ...      0\n",
       "1  data lake architect w saas remote months contr...      1\n",
       "2  senior software engineer qrypt is a post quant...      0\n",
       "3  as a staff software engineer backend you will ...      0\n",
       "4  we are looking for problem solvers with master...      1"
      ]
     },
     "execution_count": 53,
     "metadata": {},
     "output_type": "execute_result"
    }
   ],
   "source": [
    "df.head()"
   ]
  },
  {
   "cell_type": "markdown",
   "id": "0e74dfa6",
   "metadata": {},
   "source": [
    "###### We have equal number of data science and software engineer jobs , so that the ML model training would not be biased "
   ]
  },
  {
   "cell_type": "code",
   "execution_count": 55,
   "id": "76adc781",
   "metadata": {},
   "outputs": [
    {
     "data": {
      "text/plain": [
       "0    1174\n",
       "1    1174\n",
       "Name: title, dtype: int64"
      ]
     },
     "execution_count": 55,
     "metadata": {},
     "output_type": "execute_result"
    }
   ],
   "source": [
    "df['title'].value_counts()"
   ]
  },
  {
   "cell_type": "markdown",
   "id": "38142c21",
   "metadata": {},
   "source": [
    "###### Save to CSV file"
   ]
  },
  {
   "cell_type": "code",
   "execution_count": 57,
   "id": "68f8848e",
   "metadata": {},
   "outputs": [],
   "source": [
    "df.to_csv('Data.csv',index=False)"
   ]
  }
 ],
 "metadata": {
  "kernelspec": {
   "display_name": "Python 3 (ipykernel)",
   "language": "python",
   "name": "python3"
  },
  "language_info": {
   "codemirror_mode": {
    "name": "ipython",
    "version": 3
   },
   "file_extension": ".py",
   "mimetype": "text/x-python",
   "name": "python",
   "nbconvert_exporter": "python",
   "pygments_lexer": "ipython3",
   "version": "3.9.5"
  }
 },
 "nbformat": 4,
 "nbformat_minor": 5
}
